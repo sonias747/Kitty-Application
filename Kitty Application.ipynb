{
 "cells": [
  {
   "cell_type": "markdown",
   "metadata": {},
   "source": [
    "# Kitty Application"
   ]
  },
  {
   "cell_type": "code",
   "execution_count": 1,
   "metadata": {},
   "outputs": [],
   "source": [
    "class Member:\n",
    "    def __init__(self, memname):\n",
    "        self.memname = memname  \n",
    "        self.spend = 0   #initialising spend for each participant\n",
    "\n",
    "        \n",
    "        \n",
    "class Event:\n",
    "    total_expences = 0  #initialising total overall spend for event\n",
    "    def __init__(self, evtname, members):\n",
    "        self.evtname = evtname\n",
    "        self.members = members\n",
    " \n",
    "\n",
    "\n",
    "    def add_trans(self, transname, amount, memname):\n",
    "        if amount > 0:     \n",
    "            self.transname = transname\n",
    "            self.amount = amount\n",
    "            self.memname = memname\n",
    "            self.total_expences += amount   #incrementing total overall spend for event by amount\n",
    "            memname.spend += amount   #incrementing participant's(memname) spend by amount \n",
    "        else:\n",
    "            print('Error. Amount must be > 0')\n",
    " \n",
    "\n",
    "    def total_cost (self):    #total overall spend\n",
    "        return self.total_expences \n",
    " \n",
    "\n",
    "\n",
    "    def print_reconciliation (self):   #calculating total overall spend and what each participant owes \n",
    "        print('Total:', self.total_expences, ' that is ',round(self.total_expences/len(self.members), 2), ' each.')\n",
    "        print()\n",
    "        \n",
    "        self.positive = []    #list for people with positive balance \n",
    "        self.negative = []    #list for people with a negative balance \n",
    "        for member in self.members:   #calculating each participant's balance \n",
    "            member.bal = (round(member.spend, 2) - (round(self.total_expences/len(self.members), 2)))  \n",
    "            if member.bal < 0:\n",
    "                self.negative.append(member)   #adding participant to negative list\n",
    "            else:\n",
    "                self.positive.append(member)   #adding participant to positive list\n",
    "            print(member.memname, 'has balance', member.spend - (round(self.total_expences/len(self.members), 2)))\n",
    "        print()\n",
    " \n",
    "\n",
    "\n",
    "        #calculating reconciliations\n",
    "\n",
    "        for n in self.negative:        \n",
    "            for p in self.positive:   \n",
    "                if n.bal <= -(p.bal):  \n",
    "                    owed = p.bal       \n",
    "                    n.bal += p.bal       \n",
    "                    p.bal = 0            \n",
    "                else:                  \n",
    "                    owed = -(n.bal)      \n",
    "                    p.bal += n.bal     \n",
    "                    n.bal = 0           \n",
    "                if owed > 0:\n",
    "                    print(n.memname, 'pays', p.memname, round(owed,2))"
   ]
  },
  {
   "cell_type": "markdown",
   "metadata": {},
   "source": [
    "# Scenario 1"
   ]
  },
  {
   "cell_type": "code",
   "execution_count": 2,
   "metadata": {},
   "outputs": [],
   "source": [
    "a = Member('Annie')\n",
    "b = Member('Bill')\n",
    "s = Member('Sally')"
   ]
  },
  {
   "cell_type": "code",
   "execution_count": 3,
   "metadata": {},
   "outputs": [],
   "source": [
    "concert = Event('Bob Dylan', [a,b,s])"
   ]
  },
  {
   "cell_type": "code",
   "execution_count": 4,
   "metadata": {},
   "outputs": [],
   "source": [
    "concert.add_trans('Tickets', 180, a)\n",
    "concert.add_trans('Dinner', 75, s)\n",
    "concert.add_trans('Drinks', 19, b)\n",
    "concert.add_trans('Taxi', 16, b)"
   ]
  },
  {
   "cell_type": "code",
   "execution_count": 5,
   "metadata": {},
   "outputs": [
    {
     "name": "stdout",
     "output_type": "stream",
     "text": [
      "Total: 290  that is  96.67  each.\n",
      "\n",
      "Annie has balance 83.33\n",
      "Bill has balance -61.67\n",
      "Sally has balance -21.67\n",
      "\n",
      "Bill pays Annie 61.67\n",
      "Sally pays Annie 21.66\n"
     ]
    }
   ],
   "source": [
    "concert.print_reconciliation()"
   ]
  },
  {
   "cell_type": "markdown",
   "metadata": {},
   "source": [
    "# Scenario 2"
   ]
  },
  {
   "cell_type": "code",
   "execution_count": 6,
   "metadata": {},
   "outputs": [],
   "source": [
    "c = Member('Cathy')\n",
    "r = Member('Robin')\n",
    "j = Member('Jen')"
   ]
  },
  {
   "cell_type": "code",
   "execution_count": 7,
   "metadata": {},
   "outputs": [],
   "source": [
    "cinema = Event('Kill Bill', [c,r,j])"
   ]
  },
  {
   "cell_type": "code",
   "execution_count": 8,
   "metadata": {},
   "outputs": [],
   "source": [
    "cinema.add_trans('Tickets', 33, c)\n",
    "cinema.add_trans('Dinner', 60, r)\n",
    "cinema.add_trans('Drinks', 21, j)\n",
    "cinema.add_trans('Taxi', 27, j)"
   ]
  },
  {
   "cell_type": "code",
   "execution_count": 9,
   "metadata": {},
   "outputs": [
    {
     "name": "stdout",
     "output_type": "stream",
     "text": [
      "Total: 141  that is  47.0  each.\n",
      "\n",
      "Cathy has balance -14.0\n",
      "Robin has balance 13.0\n",
      "Jen has balance 1.0\n",
      "\n",
      "Cathy pays Robin 13.0\n",
      "Cathy pays Jen 1.0\n"
     ]
    }
   ],
   "source": [
    "cinema.print_reconciliation()"
   ]
  },
  {
   "cell_type": "markdown",
   "metadata": {},
   "source": [
    "# Scenario 3"
   ]
  },
  {
   "cell_type": "code",
   "execution_count": 10,
   "metadata": {},
   "outputs": [],
   "source": [
    "n = Member('Nora')\n",
    "e = Member('Eva')\n",
    "f = Member('Frankie')\n",
    "h = Member('Harry')"
   ]
  },
  {
   "cell_type": "code",
   "execution_count": 11,
   "metadata": {},
   "outputs": [],
   "source": [
    "weekend = Event('Galway', [n,e,f,h])"
   ]
  },
  {
   "cell_type": "code",
   "execution_count": 12,
   "metadata": {},
   "outputs": [],
   "source": [
    "weekend.add_trans('Dinner', 110, n)\n",
    "weekend.add_trans('Lunch', 60, e)\n",
    "weekend.add_trans('Dinner', 125, f)\n",
    "weekend.add_trans('Lunch', 70, h)"
   ]
  },
  {
   "cell_type": "code",
   "execution_count": 13,
   "metadata": {},
   "outputs": [
    {
     "name": "stdout",
     "output_type": "stream",
     "text": [
      "Total: 365  that is  91.25  each.\n",
      "\n",
      "Nora has balance 18.75\n",
      "Eva has balance -31.25\n",
      "Frankie has balance 33.75\n",
      "Harry has balance -21.25\n",
      "\n",
      "Eva pays Nora 18.75\n",
      "Eva pays Frankie 12.5\n",
      "Harry pays Frankie 21.25\n"
     ]
    }
   ],
   "source": [
    "weekend.print_reconciliation()"
   ]
  }
 ],
 "metadata": {
  "kernelspec": {
   "display_name": "Python 3",
   "language": "python",
   "name": "python3"
  },
  "language_info": {
   "codemirror_mode": {
    "name": "ipython",
    "version": 3
   },
   "file_extension": ".py",
   "mimetype": "text/x-python",
   "name": "python",
   "nbconvert_exporter": "python",
   "pygments_lexer": "ipython3",
   "version": "3.7.4"
  }
 },
 "nbformat": 4,
 "nbformat_minor": 2
}
